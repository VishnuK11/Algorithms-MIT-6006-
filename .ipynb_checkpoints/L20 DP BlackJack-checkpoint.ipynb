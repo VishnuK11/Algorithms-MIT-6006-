{
 "cells": [
  {
   "cell_type": "code",
   "execution_count": null,
   "metadata": {
    "collapsed": true
   },
   "outputs": [],
   "source": [
    "# Recursion + Guessing + Memoised\n",
    "# 1. Subproblems\n",
    "# 2. Guesses\n",
    "# 3. Recurrence\n",
    "# 4. Memo or something\n",
    "# 5. Check if we solved teh original problem\n"
   ]
  },
  {
   "cell_type": "code",
   "execution_count": 7,
   "metadata": {
    "collapsed": true
   },
   "outputs": [],
   "source": [
    "from random import shuffle"
   ]
  },
  {
   "cell_type": "markdown",
   "metadata": {},
   "source": [
    "# BlackJack\n"
   ]
  },
  {
   "cell_type": "code",
   "execution_count": 8,
   "metadata": {
    "collapsed": true
   },
   "outputs": [],
   "source": [
    "# For n words, how to select end lines os that that \n",
    "# Do random sort of deck\n",
    "# Only 4 cards per hand :  16< hit, 17>stay"
   ]
  },
  {
   "cell_type": "code",
   "execution_count": 9,
   "metadata": {
    "collapsed": true
   },
   "outputs": [],
   "source": [
    "# Create deck of 52:\n",
    "new_cards=[i for i in range(1,14)]\n",
    "cards=[]\n",
    "for j in ['s','h','d','c']:\n",
    "    for k in new_cards:\n",
    "        cards.append([k,j])"
   ]
  },
  {
   "cell_type": "code",
   "execution_count": 10,
   "metadata": {
    "collapsed": true
   },
   "outputs": [],
   "source": [
    "shuffle(cards)# "
   ]
  },
  {
   "cell_type": "code",
   "execution_count": 31,
   "metadata": {
    "collapsed": true
   },
   "outputs": [],
   "source": [
    "# class blackjack:\n",
    "    \n",
    "#     def __init__(self):\n",
    "#         self.p1_cards=[]\n",
    "#         self.p2_cards=[]\n",
    "#         self.p1_score=0\n",
    "#         self.p2_score=0\n",
    "#         self.total=0\n",
    "#         self.deck_pos=0\n",
    "        \n",
    "#         self.create_deck()\n",
    "#         shuffle(self.cards)\n",
    "        \n",
    "#     def create_deck(self):\n",
    "#         new_cards=[i for i in range(1,14)]\n",
    "#         self.cards=[]\n",
    "#         for j in ['s','h','d','c']:\n",
    "#             for k in new_cards:\n",
    "#                 self.cards.append([k,j])\n",
    "        \n",
    "#     def play_game(self):\n",
    "#         while(self.deck_pos<49):\n",
    "#             self.deal()\n",
    "#         #win=hand([self.cards[self.deck_pos],self.cards[self.deck_pos+2]],[self.cards[self.deck_pos+1],self.cards[self.deck_pos+3]])\n",
    "#         print(\"Total Score:\",self.total)\n",
    "        \n",
    "#     def deal(self):\n",
    "#         cut=self.deck_pos\n",
    "#         self.p1_cards=[cards[cut],cards[cut+2]]\n",
    "#         self.p2_cards=[cards[cut+1],cards[cut+3]]\n",
    "#         win=self.hand()\n",
    "#         print(win)\n",
    "#         self.total+=win\n",
    "#         cut+=4\n",
    "#         self.deck_pos=cut\n",
    "        \n",
    "    \n",
    "#     def get_score(self,cards):\n",
    "#         score=0\n",
    "#         for x,y in cards:\n",
    "#             if x>10:\n",
    "#                 score+=10\n",
    "#             else:\n",
    "#                 score+=x\n",
    "#         return score\n",
    "        \n",
    "#     def hand(self):\n",
    "#         self.p1_score=0\n",
    "#         self.p2_score=0\n",
    "#         print(self.p1_cards,self.p2_cards,end=\"\")\n",
    "#         self.p1_score=self.get_score(self.p1_cards)\n",
    "#         self.p2_score=self.get_score(self.p2_cards)\n",
    "#         return self.compute_win()\n",
    "    \n",
    "#     def compute_win(self):\n",
    "#         if self.p1_score>21 and self.p2_score<=21:\n",
    "#             return -1\n",
    "#         elif self.p1_score<=21 and self.p2_score>21:\n",
    "#             return 1\n",
    "#         elif self.p1_score<self.p2_score:\n",
    "#             return -1\n",
    "#         elif self.p1_score>self.p2_score:\n",
    "#             return 1\n",
    "#         else:\n",
    "#             return 0 "
   ]
  },
  {
   "cell_type": "code",
   "execution_count": 36,
   "metadata": {
    "collapsed": true
   },
   "outputs": [],
   "source": [
    "class blackjack:\n",
    "    \n",
    "    def __init__(self):\n",
    "        self.p1_cards=[]\n",
    "        self.p2_cards=[]\n",
    "        self.p1_score=0\n",
    "        self.p2_score=0\n",
    "        self.total=0\n",
    "        self.deck_pos=0\n",
    "        \n",
    "        self.create_deck()\n",
    "        shuffle(self.cards)\n",
    "        \n",
    "    def create_deck(self):\n",
    "        new_cards=[i for i in range(1,14)]\n",
    "        self.cards=[]\n",
    "        for j in ['s','h','d','c']:\n",
    "            for k in new_cards:\n",
    "                self.cards.append([k,j])\n",
    "        \n",
    "    def play_game(self):\n",
    "        while(self.deck_pos<49):\n",
    "            self.deal()\n",
    "        #win=hand([self.cards[self.deck_pos],self.cards[self.deck_pos+2]],[self.cards[self.deck_pos+1],self.cards[self.deck_pos+3]])\n",
    "        print(\"Total Score:\",self.total)\n",
    "        \n",
    "    def deal(self):\n",
    "        cut=self.deck_pos\n",
    "        self.p1_cards=[cards[cut],cards[cut+2]]\n",
    "        self.p2_cards=[cards[cut+1],cards[cut+3]]\n",
    "        win=self.hand()\n",
    "        print(win)\n",
    "        self.total+=win\n",
    "        cut+=4\n",
    "        self.deck_pos=cut\n",
    "        \n",
    "    \n",
    "    def get_score(self,cards):\n",
    "        \n",
    "        max_score=0\n",
    "        min_score=0\n",
    "        for x,y in cards:\n",
    "            if x>10:\n",
    "                max_score+=10\n",
    "                min_score+=10\n",
    "            elif x==1:\n",
    "                max_score+=10\n",
    "                min_score+=1\n",
    "            else:\n",
    "                max_score+=x\n",
    "                min_score+=x\n",
    "        return max_score\n",
    "        \n",
    "    def hand(self):\n",
    "        self.p1_score=0\n",
    "        self.p2_score=0\n",
    "        print(self.p1_cards,self.p2_cards,end=\"\")\n",
    "        self.p1_score=self.get_score(self.p1_cards)\n",
    "        self.p2_score=self.get_score(self.p2_cards)\n",
    "        return self.compute_win()\n",
    "    \n",
    "    def compute_win(self):\n",
    "                 \n",
    "        if self.p1_score>21 and self.p2_score<=21:\n",
    "            return -1\n",
    "        elif self.p1_score<=21 and self.p2_score>21:\n",
    "            return 1\n",
    "        elif self.p1_score<self.p2_score:\n",
    "            return -1\n",
    "        elif self.p1_score>self.p2_score:\n",
    "            return 1\n",
    "        else:\n",
    "            return 0 "
   ]
  },
  {
   "cell_type": "code",
   "execution_count": 37,
   "metadata": {
    "collapsed": true
   },
   "outputs": [],
   "source": [
    "bj=blackjack()"
   ]
  },
  {
   "cell_type": "code",
   "execution_count": 38,
   "metadata": {},
   "outputs": [
    {
     "name": "stdout",
     "output_type": "stream",
     "text": [
      "[[12, 'h'], [13, 's']] [[3, 'c'], [6, 'd']]1\n",
      "[[13, 'd'], [8, 'h']] [[4, 'h'], [9, 'h']]1\n",
      "[[4, 'c'], [6, 'c']] [[1, 'h'], [3, 'h']]-1\n",
      "[[5, 's'], [5, 'd']] [[13, 'c'], [5, 'h']]-1\n",
      "[[2, 'c'], [11, 'c']] [[2, 's'], [3, 'd']]1\n",
      "[[4, 'd'], [12, 'c']] [[6, 'h'], [9, 'c']]-1\n",
      "[[3, 's'], [1, 'd']] [[13, 'h'], [7, 'c']]-1\n",
      "[[2, 'd'], [10, 'd']] [[12, 's'], [10, 'c']]-1\n",
      "[[11, 's'], [10, 's']] [[8, 's'], [6, 's']]1\n",
      "[[9, 'd'], [5, 'c']] [[11, 'h'], [8, 'c']]-1\n",
      "[[1, 'c'], [9, 's']] [[8, 'd'], [7, 'h']]1\n",
      "[[1, 's'], [10, 'h']] [[4, 's'], [11, 'd']]1\n",
      "[[7, 'd'], [12, 'd']] [[2, 'h'], [7, 's']]1\n",
      "Total Score: 1\n"
     ]
    }
   ],
   "source": [
    "bj.play_game()"
   ]
  }
 ],
 "metadata": {
  "kernelspec": {
   "display_name": "Python 3",
   "language": "python",
   "name": "python3"
  },
  "language_info": {
   "codemirror_mode": {
    "name": "ipython",
    "version": 3
   },
   "file_extension": ".py",
   "mimetype": "text/x-python",
   "name": "python",
   "nbconvert_exporter": "python",
   "pygments_lexer": "ipython3",
   "version": "3.6.1"
  }
 },
 "nbformat": 4,
 "nbformat_minor": 2
}

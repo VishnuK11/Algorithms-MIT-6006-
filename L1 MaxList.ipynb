{
 "cells": [
  {
   "cell_type": "code",
   "execution_count": null,
   "metadata": {
    "collapsed": true
   },
   "outputs": [],
   "source": [
    "# Find atleast one max in a 1D and 2D list. \n",
    "# Note: Local MAX, not global.  Hence sometimes might run into edge cases where it doesn't work"
   ]
  },
  {
   "cell_type": "code",
   "execution_count": 43,
   "metadata": {
    "collapsed": true
   },
   "outputs": [],
   "source": [
    "from random import randint"
   ]
  },
  {
   "cell_type": "code",
   "execution_count": 44,
   "metadata": {
    "collapsed": true
   },
   "outputs": [],
   "source": [
    "D1=[randint(1,50) for i in range(10)]\n",
    "D2=[[randint(1,50) for i in range(7)]for i in range(8)]"
   ]
  },
  {
   "cell_type": "code",
   "execution_count": 45,
   "metadata": {},
   "outputs": [
    {
     "name": "stdout",
     "output_type": "stream",
     "text": [
      "[31, 49, 38, 35, 20, 34, 47, 26, 50, 39]\n",
      "Max is:  50\n"
     ]
    }
   ],
   "source": [
    "found=False\n",
    "start=0\n",
    "end=len(D1)\n",
    "while found==False:\n",
    "    \n",
    "    ind=start+int((end-start)/2)\n",
    "    if D1[ind-1]>=D1[ind+1] and D1[ind-1]>=D1[ind]:\n",
    "        end=ind\n",
    "#         print(\"End is: \",end)\n",
    "    elif D1[ind+1]>=D1[ind] and D1[ind+1]>=D1[ind]:\n",
    "        start=ind\n",
    "#         print(\"Start is: \",start)\n",
    "    else:\n",
    "        found=True\n",
    "        print(D1)\n",
    "        print(\"Max is: \",D1[ind])"
   ]
  },
  {
   "cell_type": "code",
   "execution_count": 46,
   "metadata": {},
   "outputs": [
    {
     "name": "stdout",
     "output_type": "stream",
     "text": [
      "Max is:  42 at  2 , 3\n",
      "[16, 7, 35, 48, 39, 40, 1]\n",
      "[29, 11, 37, 28, 48, 9, 33]\n",
      "[50, 44, 25, 42, 49, 45, 8]\n",
      "[48, 18, 11, 31, 23, 49, 7]\n",
      "[33, 6, 19, 14, 24, 31, 23]\n",
      "[17, 32, 8, 28, 36, 5, 22]\n",
      "[35, 43, 44, 30, 41, 32, 17]\n",
      "[2, 3, 14, 31, 35, 50, 18]\n"
     ]
    }
   ],
   "source": [
    "found=False\n",
    "row_found=False\n",
    "col_found=False\n",
    "\n",
    "start_row=0\n",
    "end_row=len(D2)\n",
    "start_col=0\n",
    "end_col=len(D2[0])\n",
    "\n",
    "while found==False:\n",
    "    \n",
    "    centr=[int((end_row-start_row)/2),int((end_col-start_col)/2)]\n",
    "    # Column wise Binary search max\n",
    "    if end_col==1 or end_col==start_col or start_col==(len(D2[0])-1):\n",
    "        print(\"Edge case column wise\",start_row,end_row,start_col,end_col)\n",
    "        print(D2)\n",
    "        break\n",
    "    elif D2[centr[0]][centr[1]-1]>D2[centr[0]][centr[1]] and D2[centr[0]][centr[1]-1]>D2[centr[0]][centr[1]+1]:\n",
    "        end_col=centr[1]\n",
    "    elif D2[centr[0]][centr[1]+1]>D2[centr[0]][centr[1]] and D2[centr[0]][centr[1]+1]>D2[centr[0]][centr[1]+1]:\n",
    "        start_col=centr[1]\n",
    "    else:\n",
    "        col_found=True\n",
    "        \n",
    "    centr=[int((end_row-start_row)/2),int((end_col-start_col)/2)]\n",
    "    # Row wise Binary search max\n",
    "    if (end_row==1) or (end_row==start_row) or start_row==(len(D2)-1):\n",
    "        print(\"Edge case rowwise\",start_row,end_row,start_col,end_col)\n",
    "        print(D2)\n",
    "        break\n",
    "    if D2[centr[0]-1][centr[1]]>D2[centr[0]][centr[1]] and D2[centr[0]-1][centr[1]]>D2[centr[0]+1][centr[1]]:\n",
    "        end_row=centr[0]\n",
    "    elif D2[centr[0]+1][centr[1]]>D2[centr[0]][centr[1]] and D2[centr[0]+1][centr[1]]>D2[centr[0]-1][centr[1]]:\n",
    "        start_row=centr[0]\n",
    "    else:\n",
    "        row_found=True\n",
    "    \n",
    "    #If max on both row and column, 2D max found\n",
    "    if row_found==True and col_found==True:\n",
    "        print(\"Max is: \",D2[centr[0]][centr[1]],\"at \",centr[0],\",\",centr[1])\n",
    "        for i in range(len(D2)):\n",
    "            print(D2[i])\n",
    "        found=True\n",
    "    else:\n",
    "        row_found=False \n",
    "        col_found=False"
   ]
  },
  {
   "cell_type": "code",
   "execution_count": null,
   "metadata": {
    "collapsed": true
   },
   "outputs": [],
   "source": []
  }
 ],
 "metadata": {
  "kernelspec": {
   "display_name": "Python 3",
   "language": "python",
   "name": "python3"
  },
  "language_info": {
   "codemirror_mode": {
    "name": "ipython",
    "version": 3
   },
   "file_extension": ".py",
   "mimetype": "text/x-python",
   "name": "python",
   "nbconvert_exporter": "python",
   "pygments_lexer": "ipython3",
   "version": "3.6.1"
  }
 },
 "nbformat": 4,
 "nbformat_minor": 2
}

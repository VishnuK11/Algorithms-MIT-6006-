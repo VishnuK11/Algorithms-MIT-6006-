{
 "cells": [
  {
   "cell_type": "markdown",
   "metadata": {},
   "source": [
    "# Graphs"
   ]
  },
  {
   "cell_type": "code",
   "execution_count": 1,
   "metadata": {
    "collapsed": true
   },
   "outputs": [],
   "source": [
    "# Graphs - Edges and Vertices\n",
    "# Make a Graph such that you can find its neighbors through edges.\n",
    "# Find the length of path from root to the end vertice."
   ]
  },
  {
   "cell_type": "code",
   "execution_count": 24,
   "metadata": {
    "collapsed": true
   },
   "outputs": [],
   "source": [
    "class d_graph: # Directed Graph\n",
    "    def __init__(self):\n",
    "        self.edges=[]\n",
    "        self.vertices=[]\n",
    "        self.root=[]\n",
    "        self.visited=[]\n",
    "     # Create Vertices    \n",
    "    def add_vertices(self,num):\n",
    "        for i in range(num):\n",
    "            self.vertices.append(chr(65+len(self.vertices)))\n",
    "    \n",
    "    # Create Edge   \n",
    "    def connect_vertices(self,v1,v2):\n",
    "        self.edges.append([v1,v2])\n",
    "    \n",
    "    # Check if 2 vertices are connected by an Edge\n",
    "    def is_edge(self,v1,v2):\n",
    "        for edg in self.edges:\n",
    "            if v1 in edg and v2 in edg: # case sensitive. Need to implmnt case insensitve\n",
    "                return True\n",
    "            else:\n",
    "                return False\n",
    "    \n",
    "    # Search from root to an end vertice. Compute length of path        \n",
    "    def bfs(self,intake): \n",
    "        # Insert root ->(optional)\n",
    "        # Type explore from root using g.bfs('A') or for shortest path D->F, type g.bfs(['D','F'])\n",
    "        \n",
    "        if len(intake)==1:\n",
    "            root=intake\n",
    "            find=-1\n",
    "        if len(intake)>1:\n",
    "            root=intake[0]\n",
    "            find=intake[1]\n",
    "            \n",
    "        if root not in self.vertices:\n",
    "            return False\n",
    "        else:\n",
    "            frontier=root\n",
    "            level=0\n",
    "            level_data=[[0],[root]] # Stored as [[0,1,1,2,2,3],[A,B,C,D,E]]\n",
    "            while len(frontier) != 0:\n",
    "                next_v=[]\n",
    "                for current in frontier:\n",
    "                    for adj in self.adj(current):\n",
    "                        if adj not in level_data[1]:\n",
    "                            next_v.append(adj)\n",
    "                            level_data[0].append(level+1)\n",
    "                            level_data[1].append(adj)\n",
    "                \n",
    "                    # If found, update flag \n",
    "                    if find in self.adj(current):\n",
    "                        print(\"From root\",intake[0],\"to find\",intake[1],\" is of length:\",level)\n",
    "                        found=True\n",
    "                        break\n",
    "                frontier=next_v\n",
    "                level+=1\n",
    "                \n",
    "                # Break loop\n",
    "                if found==True:\n",
    "                    break\n",
    "                print(\"Next V at \",level,\"is :\",next_v,)\n",
    "                print(\"Level data:\",level_data)\n",
    "       \n",
    "    # Visit every vertices possible starting with root.\n",
    "    # Track visited by tracking parents\n",
    "    def dfs_visit(self,current): \n",
    "        for v in self.adj(current):\n",
    "            if v not in self.visited:\n",
    "                self.visited.append(v)\n",
    "                self.dfs_visit(v)\n",
    "        print(self.visited)\n",
    "\n",
    "    # Visit all vertices in depth, starting with each vertice.\n",
    "    # Or in other words, Do DFS for each vertice.\n",
    "    def dfs(self,start,find): \n",
    "        self.visited=[]\n",
    "        self.dfs_visit(start)\n",
    "        \n",
    "    # List of Adjacent Vertices\n",
    "    # Update conditions here for 2- Way or 1-way (directed) graph edges\n",
    "    def adj(self,current):  \n",
    "        adj=[]\n",
    "        for edg in self.edges:\n",
    "            if (current == edg[0]) and (edg[1] not in adj):\n",
    "                adj.append(edg[1])\n",
    "            # Comment these 2 lines for 1 way (directed) graph\n",
    "            elif (current == edg[1]) and (edg[0] not in adj):\n",
    "                adj.append(edg[0])\n",
    "#         print(adj)\n",
    "        return adj\n",
    "                \n",
    "    def printall(self):\n",
    "        print(\"Vertices: \",self.vertices)\n",
    "        print(\"Edges: \",self.edges)"
   ]
  },
  {
   "cell_type": "code",
   "execution_count": 25,
   "metadata": {},
   "outputs": [
    {
     "name": "stdout",
     "output_type": "stream",
     "text": [
      "Vertices:  ['A', 'B', 'C', 'D', 'E', 'F']\n",
      "Edges:  [['A', 'B'], ['A', 'C'], ['C', 'F'], ['C', 'E'], ['C', 'D'], ['D', 'F']]\n"
     ]
    }
   ],
   "source": [
    "g=d_graph()\n",
    "g.add_vertices(6)\n",
    "g.connect_vertices('A','B')\n",
    "g.connect_vertices('A','C')\n",
    "g.connect_vertices('C','F')\n",
    "g.connect_vertices('C','E')\n",
    "g.connect_vertices('C','D')\n",
    "g.connect_vertices('D','F')\n",
    "g.printall()"
   ]
  },
  {
   "cell_type": "code",
   "execution_count": 26,
   "metadata": {},
   "outputs": [
    {
     "name": "stdout",
     "output_type": "stream",
     "text": [
      "['A', 'B']\n",
      "['A', 'B', 'C', 'F', 'D']\n",
      "['A', 'B', 'C', 'F', 'D']\n",
      "['A', 'B', 'C', 'F', 'D', 'E']\n",
      "['A', 'B', 'C', 'F', 'D', 'E']\n",
      "['A', 'B', 'C', 'F', 'D', 'E']\n",
      "['A', 'B', 'C', 'F', 'D', 'E']\n"
     ]
    }
   ],
   "source": [
    "g.dfs('C','F')"
   ]
  },
  {
   "cell_type": "code",
   "execution_count": null,
   "metadata": {
    "collapsed": true
   },
   "outputs": [],
   "source": []
  }
 ],
 "metadata": {
  "kernelspec": {
   "display_name": "Python 3",
   "language": "python",
   "name": "python3"
  },
  "language_info": {
   "codemirror_mode": {
    "name": "ipython",
    "version": 3
   },
   "file_extension": ".py",
   "mimetype": "text/x-python",
   "name": "python",
   "nbconvert_exporter": "python",
   "pygments_lexer": "ipython3",
   "version": "3.6.1"
  }
 },
 "nbformat": 4,
 "nbformat_minor": 2
}

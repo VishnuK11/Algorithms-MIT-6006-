{
 "cells": [
  {
   "cell_type": "markdown",
   "metadata": {},
   "source": [
    "# Shortest Distance"
   ]
  },
  {
   "cell_type": "code",
   "execution_count": 1,
   "metadata": {
    "collapsed": true
   },
   "outputs": [],
   "source": [
    "# Initialize: for v ∈ V :\n",
    "# d [v] ← ∞\n",
    "# Π [v] ← NIL\n",
    "# d[S] ← 0\n",
    "# Main: repeat\n",
    "# \n",
    "# select edge (u, v) [somehow] - Here doing using adj_edge\n",
    "# if d[v] > d[u] + w(u, v) :\n",
    "# “Relax” edge (u, v)  d[v] ← d[u] + w(u, v)\n",
    "# π[v] ← u\n",
    "# until all edges have d[v] ≤ d[u] + w(u, v)\n"
   ]
  },
  {
   "cell_type": "code",
   "execution_count": 2,
   "metadata": {
    "collapsed": true
   },
   "outputs": [],
   "source": [
    "# Graphs - Edges and Vertices\n",
    "# Make a Graph such that you can find its neighbors, edges, shortest path"
   ]
  },
  {
   "cell_type": "code",
   "execution_count": 11,
   "metadata": {},
   "outputs": [],
   "source": [
    "class d_graph: # Directed Graph\n",
    "    def __init__(self):\n",
    "        self.edges=[]\n",
    "        self.vertices=[]\n",
    "        self.root=[]\n",
    "        self.parent={}\n",
    "        \n",
    "    def add_vertices(self,num):\n",
    "        for i in range(num):\n",
    "            self.vertices.append(chr(65+len(self.vertices)))\n",
    "       \n",
    "    def connect_vertices(self,v1,v2,distance): # To Do convert to hash table or dict?\n",
    "        self.edges.append([v1,v2,distance])\n",
    "    \n",
    "    def is_edge(self,v1,v2):\n",
    "        for edg in self.edges:\n",
    "            if v1 in edg and v2 in edg: # case sensitive. Need to implmnt case insensitve\n",
    "                return True\n",
    "            else:\n",
    "                return False\n",
    "            \n",
    "    # Insert root ->(optional)\n",
    "    # Type explore from root using g.bfs('A') or for shortest path D->F, type g.bfs(['D','F'])\n",
    "    def short_distance_bfs(self,intake): \n",
    "        \n",
    "        if len(intake)==1:\n",
    "            root=intake\n",
    "            find=-1\n",
    "        if len(intake)>1:\n",
    "            root=intake[0]\n",
    "            find=intake[1]\n",
    "            \n",
    "        if root not in self.vertices:\n",
    "            return False\n",
    "        else:\n",
    "            frontier=root\n",
    "            d={}\n",
    "            pi={}\n",
    "            level=0\n",
    "            explored_vertices=[] # Stored as level,vertice[[0,1,1,2,2,3],[A,B,C,D,E]]\n",
    "            \n",
    "            for vertice in self.vertices:\n",
    "                if vertice==root:\n",
    "                    d[vertice]=0\n",
    "                    pi[vertice]=str(vertice)\n",
    "                else:\n",
    "                    d[vertice]=pow(10,5)\n",
    "            \n",
    "            while len(frontier) != 0:\n",
    "                next_v=[]\n",
    "                for current in frontier:\n",
    "                    if current not in explored_vertices:\n",
    "                        explored_vertices.append(current)\n",
    "                        for edg in self.adj_edge(current): # To do Ensure adj can take >1 edge b/w vertices\n",
    "                            if edg[1] not in explored_vertices: # Not sure\n",
    "                                next_v.append(edg[1])\n",
    "                            \n",
    "                            if d[edg[1]]> edg[2]+d[current]:\n",
    "                                d[edg[1]]= edg[2]+d[current]\n",
    "                                pi[edg[1]]=str(pi[current])+str(edg[1])\n",
    "                    \n",
    "                frontier=next_v\n",
    "                level+=1\n",
    "                if find in frontier:\n",
    "                    print(\"From root to find is of length\",level)\n",
    "                print(\"Next V at \",level,\"is :\",next_v,)\n",
    "                print(\"Distance from root \",d)\n",
    "                print(\"Path \",pi)\n",
    "#                 print(\"Level data:\",level_data)\n",
    "        \n",
    "    # Adjacent Edge. # Returns all edges from the vertices\n",
    "    def adj_edge(self,current):  \n",
    "        adj_edge=[]\n",
    "        for edg in self.edges:\n",
    "            if (current == edg[0]) and edg not in adj_edge:\n",
    "                adj_edge.append(edg)\n",
    "#             elif (current == edg[1]) and (edg[0] not in adj):\n",
    "#                 adj.append(edg[0])\n",
    "#         print(adj)\n",
    "        return adj_edge\n",
    "                \n",
    "    def printall(self):\n",
    "        print(\"Vertices: \",self.vertices)\n",
    "        print(\"Edges: \",self.edges)"
   ]
  },
  {
   "cell_type": "code",
   "execution_count": 12,
   "metadata": {},
   "outputs": [
    {
     "name": "stdout",
     "output_type": "stream",
     "text": [
      "Vertices:  ['A', 'B', 'C', 'D', 'E', 'F', 'G']\n",
      "Edges:  [['G', 'A', 1], ['G', 'B', 2], ['A', 'B', 3], ['B', 'A', 1], ['A', 'E', 2], ['A', 'C', 5], ['C', 'E', 3], ['B', 'C', 3], ['B', 'D', 1], ['D', 'C', 2], ['D', 'F', 1], ['E', 'D', 1], ['E', 'F', 4], ['F', 'B', 2]]\n"
     ]
    }
   ],
   "source": [
    "g=d_graph()\n",
    "g.add_vertices(7)\n",
    "g.connect_vertices('G','A',1)\n",
    "g.connect_vertices('G','B',2)\n",
    "g.connect_vertices('A','B',3)\n",
    "g.connect_vertices('B','A',1)\n",
    "g.connect_vertices('A','E',2)\n",
    "g.connect_vertices('A','C',5)\n",
    "g.connect_vertices('C','E',3)\n",
    "g.connect_vertices('B','C',3)\n",
    "g.connect_vertices('B','D',1)\n",
    "g.connect_vertices('D','C',2)\n",
    "g.connect_vertices('D','F',1)\n",
    "g.connect_vertices('E','D',1)\n",
    "g.connect_vertices('E','F',4)\n",
    "g.connect_vertices('F','B',2)\n",
    "g.printall()"
   ]
  },
  {
   "cell_type": "code",
   "execution_count": 13,
   "metadata": {},
   "outputs": [
    {
     "name": "stdout",
     "output_type": "stream",
     "text": [
      "Next V at  1 is : ['A', 'B']\n",
      "Distance from root  {'A': 1, 'B': 2, 'C': 100000, 'D': 100000, 'E': 100000, 'F': 100000, 'G': 0}\n",
      "Path  {'G': 'G', 'A': 'GA', 'B': 'GB'}\n",
      "Next V at  2 is : ['B', 'E', 'C', 'C', 'D']\n",
      "Distance from root  {'A': 1, 'B': 2, 'C': 5, 'D': 3, 'E': 3, 'F': 100000, 'G': 0}\n",
      "Path  {'G': 'G', 'A': 'GA', 'B': 'GB', 'E': 'GAE', 'C': 'GBC', 'D': 'GBD'}\n",
      "Next V at  3 is : ['D', 'F', 'F']\n",
      "Distance from root  {'A': 1, 'B': 2, 'C': 5, 'D': 3, 'E': 3, 'F': 4, 'G': 0}\n",
      "Path  {'G': 'G', 'A': 'GA', 'B': 'GB', 'E': 'GAE', 'C': 'GBC', 'D': 'GBD', 'F': 'GBDF'}\n",
      "Next V at  4 is : []\n",
      "Distance from root  {'A': 1, 'B': 2, 'C': 5, 'D': 3, 'E': 3, 'F': 4, 'G': 0}\n",
      "Path  {'G': 'G', 'A': 'GA', 'B': 'GB', 'E': 'GAE', 'C': 'GBC', 'D': 'GBD', 'F': 'GBDF'}\n"
     ]
    }
   ],
   "source": [
    "# Type the root vertice. It'll print shortest distance to all vertices reachable\n",
    "g.short_distance_bfs('G')"
   ]
  }
 ],
 "metadata": {
  "kernelspec": {
   "display_name": "Python 3",
   "language": "python",
   "name": "python3"
  },
  "language_info": {
   "codemirror_mode": {
    "name": "ipython",
    "version": 3
   },
   "file_extension": ".py",
   "mimetype": "text/x-python",
   "name": "python",
   "nbconvert_exporter": "python",
   "pygments_lexer": "ipython3",
   "version": "3.6.1"
  }
 },
 "nbformat": 4,
 "nbformat_minor": 2
}

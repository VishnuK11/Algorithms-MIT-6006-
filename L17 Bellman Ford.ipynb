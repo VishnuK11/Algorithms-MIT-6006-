{
 "cells": [
  {
   "cell_type": "code",
   "execution_count": null,
   "metadata": {
    "collapsed": true
   },
   "outputs": [],
   "source": [
    "# Complexity O(V.E)"
   ]
  },
  {
   "cell_type": "markdown",
   "metadata": {},
   "source": [
    "# Graphs"
   ]
  },
  {
   "cell_type": "code",
   "execution_count": 55,
   "metadata": {
    "collapsed": true
   },
   "outputs": [],
   "source": [
    "# Pseudo-code\n",
    "# Dijkstra (G, W, s) //uses priority queue Q\n",
    "# Initialize (G, s)\n",
    "# S ← φ\n",
    "# Q ← V [G] //Insert into Q\n",
    "# while Q = φ\n",
    "# do u ← EXTRACT-MIN(Q) //deletes u from Q\n",
    "# S = S ∪ {u}\n",
    "# for each vertex v \u000f Adj[u]\n",
    "# do RELAX (u, v, w) ← this is an implicit DECREASE KEY operation"
   ]
  },
  {
   "cell_type": "code",
   "execution_count": 1,
   "metadata": {
    "collapsed": true
   },
   "outputs": [],
   "source": [
    "# Graphs - Edges and Vertices\n",
    "# Make a Graph such that you can find its neighbors, edges, shortest path"
   ]
  },
  {
   "cell_type": "code",
   "execution_count": 21,
   "metadata": {
    "collapsed": true
   },
   "outputs": [],
   "source": [
    "class d_graph: # Directed Graph\n",
    "    def __init__(self):\n",
    "        self.edges=[]\n",
    "        self.vertices=[]\n",
    "        self.root=[]\n",
    "        self.parent={}\n",
    "        \n",
    "    def add_vertices(self,num):\n",
    "        for i in range(num):\n",
    "            self.vertices.append(chr(65+len(self.vertices)))\n",
    "       \n",
    "    def connect_vertices(self,v1,v2,distance): # To Do convert to hash table or dict?\n",
    "        self.edges.append([v1,v2,distance])\n",
    "    \n",
    "    def is_edge(self,v1,v2):\n",
    "        for edg in self.edges:\n",
    "            if v1 in edg and v2 in edg: # case sensitive. Need to implmnt case insensitve\n",
    "                return True\n",
    "            else:\n",
    "                return False\n",
    "            \n",
    "    def short_distance_bellman(self,intake): \n",
    "        # Insert root ->(optional)\n",
    "        # Type explore from root using g.bfs('A') or for shortest path D->F, type g.bfs(['D','F'])\n",
    "        \n",
    "        if len(intake)==1:\n",
    "            root=intake\n",
    "            find=-1\n",
    "        if len(intake)>1:\n",
    "            root=intake[0]\n",
    "            find=intake[1]\n",
    "            \n",
    "        if root not in self.vertices:\n",
    "            return None\n",
    "        else:\n",
    "            self.Q=[] # To do Store Q as a binary min heap\n",
    "            self.d={} # Store as hash table. But in pyton dicts are hash table so its fine\n",
    "            self.pi={}\n",
    "            level=0\n",
    "            explored_vertices=[] # Stored as level,vertice[[0,1,1,2,2,3],[A,B,C,D,E]]\n",
    "            \n",
    "            self.initialize(root)\n",
    "            current=root\n",
    "            \n",
    "            for vertice in self.vertices:\n",
    "                if vertice !=root:\n",
    "                    self.relax()\n",
    "            \n",
    "            print(\"Checkingfor change\")\n",
    "            if self.relax()==True:\n",
    "                print(\"NegativeCycle Exists\")\n",
    "            \n",
    "            print(self.d,self.pi)\n",
    "            if find in self.pi:\n",
    "                print(\"The shortest path is: \",self.pi[find])\n",
    "                \n",
    "    def extract_min(self):\n",
    "        small=self.Q[0]\n",
    "        for vertice in self.Q:\n",
    "            if self.d[small]>self.d[vertice]:\n",
    "                small=vertice\n",
    "        return small\n",
    "    \n",
    "    def relax(self): # \n",
    "        change=False\n",
    "        for edg in self.edges: # To do Ensure adj can take >1 edge b/w vertices\n",
    "            u=edg[0]\n",
    "            w=edg[2]\n",
    "            if self.d[edg[1]]> w+self.d[u]:\n",
    "                self.d[edg[1]]= w+self.d[u]\n",
    "                self.pi[edg[1]]=str(self.pi[u])+str(edg[1])\n",
    "                print(self.d,self.pi)\n",
    "                change=True\n",
    "        return change\n",
    "                \n",
    "    def initialize(self,root):\n",
    "        for vertice in self.vertices:\n",
    "            if vertice==root:\n",
    "                self.d[vertice]=0\n",
    "                self.pi[vertice]=str(vertice)\n",
    "                self.Q.append(vertice)\n",
    "            else:\n",
    "                self.d[vertice]=pow(10,5)\n",
    "                self.Q.append(vertice)\n",
    "                self.pi[vertice]=str()\n",
    "        \n",
    "    def adj_edge(self,current):  # Adjacent Edge. # Returns all edges from the vertices\n",
    "        adj_edge=[]\n",
    "        for edg in self.edges:\n",
    "            if (current == edg[0]) and edg not in adj_edge:\n",
    "                adj_edge.append(edg)\n",
    "#             elif (current == edg[1]) and (edg[0] not in adj):\n",
    "#                 adj.append(edg[0])\n",
    "#         print(\"Current:\",current,adj_edge)\n",
    "        return adj_edge\n",
    "                \n",
    "    def printall(self):\n",
    "        print(\"Vertices: \",self.vertices)\n",
    "        print(\"Edges: \",self.edges)"
   ]
  },
  {
   "cell_type": "code",
   "execution_count": 22,
   "metadata": {},
   "outputs": [
    {
     "name": "stdout",
     "output_type": "stream",
     "text": [
      "Vertices:  ['A', 'B', 'C', 'D', 'E']\n",
      "Edges:  [['B', 'E', 2], ['D', 'B', 1], ['B', 'D', 2], ['A', 'B', -1], ['A', 'C', 4], ['D', 'C', 5], ['B', 'C', 3], ['E', 'D', -3]]\n"
     ]
    }
   ],
   "source": [
    "g=d_graph()\n",
    "g.add_vertices(5)\n",
    "g.connect_vertices('B','E',2)\n",
    "g.connect_vertices('D','B',1)\n",
    "g.connect_vertices('B','D',2)\n",
    "g.connect_vertices('A','B',-1)\n",
    "g.connect_vertices('A','C',4)\n",
    "g.connect_vertices('D','C',5)\n",
    "g.connect_vertices('B','C',3)\n",
    "g.connect_vertices('E','D',-3)\n",
    "g.printall()"
   ]
  },
  {
   "cell_type": "code",
   "execution_count": 23,
   "metadata": {},
   "outputs": [
    {
     "name": "stdout",
     "output_type": "stream",
     "text": [
      "{'A': 0, 'B': -1, 'C': 100000, 'D': 100000, 'E': 100000} {'A': 'A', 'B': 'AB', 'C': '', 'D': '', 'E': ''}\n",
      "{'A': 0, 'B': -1, 'C': 4, 'D': 100000, 'E': 100000} {'A': 'A', 'B': 'AB', 'C': 'AC', 'D': '', 'E': ''}\n",
      "{'A': 0, 'B': -1, 'C': 2, 'D': 100000, 'E': 100000} {'A': 'A', 'B': 'AB', 'C': 'ABC', 'D': '', 'E': ''}\n",
      "{'A': 0, 'B': -1, 'C': 2, 'D': 99997, 'E': 100000} {'A': 'A', 'B': 'AB', 'C': 'ABC', 'D': 'D', 'E': ''}\n",
      "{'A': 0, 'B': -1, 'C': 2, 'D': 99997, 'E': 1} {'A': 'A', 'B': 'AB', 'C': 'ABC', 'D': 'D', 'E': 'ABE'}\n",
      "{'A': 0, 'B': -1, 'C': 2, 'D': 1, 'E': 1} {'A': 'A', 'B': 'AB', 'C': 'ABC', 'D': 'ABD', 'E': 'ABE'}\n",
      "{'A': 0, 'B': -1, 'C': 2, 'D': -2, 'E': 1} {'A': 'A', 'B': 'AB', 'C': 'ABC', 'D': 'ABED', 'E': 'ABE'}\n",
      "Checkingfor change\n",
      "{'A': 0, 'B': -1, 'C': 2, 'D': -2, 'E': 1} {'A': 'A', 'B': 'AB', 'C': 'ABC', 'D': 'ABED', 'E': 'ABE'}\n"
     ]
    }
   ],
   "source": [
    "g.short_distance_bellman('A')"
   ]
  },
  {
   "cell_type": "code",
   "execution_count": 24,
   "metadata": {},
   "outputs": [
    {
     "name": "stdout",
     "output_type": "stream",
     "text": [
      "{'A': 0, 'B': -1, 'C': 100000, 'D': 100000, 'E': 100000} {'A': 'A', 'B': 'AB', 'C': '', 'D': '', 'E': ''}\n",
      "{'A': 0, 'B': -1, 'C': 4, 'D': 100000, 'E': 100000} {'A': 'A', 'B': 'AB', 'C': 'AC', 'D': '', 'E': ''}\n",
      "{'A': 0, 'B': -1, 'C': 2, 'D': 100000, 'E': 100000} {'A': 'A', 'B': 'AB', 'C': 'ABC', 'D': '', 'E': ''}\n",
      "{'A': 0, 'B': -1, 'C': 2, 'D': 99997, 'E': 100000} {'A': 'A', 'B': 'AB', 'C': 'ABC', 'D': 'D', 'E': ''}\n",
      "{'A': 0, 'B': -1, 'C': 2, 'D': 99997, 'E': 1} {'A': 'A', 'B': 'AB', 'C': 'ABC', 'D': 'D', 'E': 'ABE'}\n",
      "{'A': 0, 'B': -1, 'C': 2, 'D': 1, 'E': 1} {'A': 'A', 'B': 'AB', 'C': 'ABC', 'D': 'ABD', 'E': 'ABE'}\n",
      "{'A': 0, 'B': -1, 'C': 2, 'D': -2, 'E': 1} {'A': 'A', 'B': 'AB', 'C': 'ABC', 'D': 'ABED', 'E': 'ABE'}\n",
      "Checkingfor change\n",
      "{'A': 0, 'B': -1, 'C': 2, 'D': -2, 'E': 1} {'A': 'A', 'B': 'AB', 'C': 'ABC', 'D': 'ABED', 'E': 'ABE'}\n",
      "The shortest path is:  ABE\n"
     ]
    }
   ],
   "source": [
    "g.short_distance_bellman(['A','E'])"
   ]
  },
  {
   "cell_type": "code",
   "execution_count": 14,
   "metadata": {},
   "outputs": [
    {
     "name": "stdout",
     "output_type": "stream",
     "text": [
      "{'A': 1, 'B': 2, 'C': 5, 'D': 3, 'E': 3, 'F': 4, 'G': 0} {'G': 'G', 'A': 'GA', 'B': 'GB', 'E': 'GAE', 'C': 'GBC', 'D': 'GBD', 'F': 'GBDF'}\n",
      "The shortest path is:  GBDF\n"
     ]
    }
   ],
   "source": [
    "g.short_distance_dijkstra(['G','F'])"
   ]
  },
  {
   "cell_type": "code",
   "execution_count": 13,
   "metadata": {},
   "outputs": [
    {
     "name": "stdout",
     "output_type": "stream",
     "text": [
      "{'A': 1, 'B': 2, 'C': 5, 'D': 3, 'E': 3, 'F': 4, 'G': 0} {'G': 'G', 'A': 'GA', 'B': 'GB', 'E': 'GAE', 'C': 'GBC', 'D': 'GBD', 'F': 'GBDF'}\n"
     ]
    }
   ],
   "source": [
    "g.short_distance_dijkstra('G')"
   ]
  },
  {
   "cell_type": "code",
   "execution_count": 12,
   "metadata": {},
   "outputs": [
    {
     "name": "stdout",
     "output_type": "stream",
     "text": [
      "Vertices:  ['A', 'B', 'C', 'D', 'E', 'F', 'G']\n",
      "Edges:  [['G', 'A', 1], ['G', 'B', 2], ['A', 'B', 3], ['B', 'A', 1], ['A', 'E', 2], ['A', 'C', 5], ['C', 'E', 3], ['B', 'C', 3], ['B', 'D', 1], ['D', 'C', 2], ['D', 'F', 1], ['E', 'D', 1], ['E', 'F', 4], ['F', 'B', 2]]\n"
     ]
    }
   ],
   "source": [
    "g=d_graph()\n",
    "g.add_vertices(7)\n",
    "g.connect_vertices('G','A',1)\n",
    "g.connect_vertices('G','B',2)\n",
    "g.connect_vertices('A','B',3)\n",
    "g.connect_vertices('B','A',1)\n",
    "g.connect_vertices('A','E',2)\n",
    "g.connect_vertices('A','C',5)\n",
    "g.connect_vertices('C','E',3)\n",
    "g.connect_vertices('B','C',3)\n",
    "g.connect_vertices('B','D',1)\n",
    "g.connect_vertices('D','C',2)\n",
    "g.connect_vertices('D','F',1)\n",
    "g.connect_vertices('E','D',1)\n",
    "g.connect_vertices('E','F',4)\n",
    "g.connect_vertices('F','B',2)\n",
    "g.printall()"
   ]
  },
  {
   "cell_type": "code",
   "execution_count": null,
   "metadata": {
    "collapsed": true
   },
   "outputs": [],
   "source": []
  }
 ],
 "metadata": {
  "kernelspec": {
   "display_name": "Python 3",
   "language": "python",
   "name": "python3"
  },
  "language_info": {
   "codemirror_mode": {
    "name": "ipython",
    "version": 3
   },
   "file_extension": ".py",
   "mimetype": "text/x-python",
   "name": "python",
   "nbconvert_exporter": "python",
   "pygments_lexer": "ipython3",
   "version": "3.6.1"
  }
 },
 "nbformat": 4,
 "nbformat_minor": 2
}

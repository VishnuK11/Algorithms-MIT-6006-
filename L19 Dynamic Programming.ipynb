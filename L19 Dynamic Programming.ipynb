{
 "cells": [
  {
   "cell_type": "code",
   "execution_count": 11,
   "metadata": {
    "collapsed": true
   },
   "outputs": [],
   "source": [
    "# F0\t0\n",
    "# F1\t1\n",
    "# F2\t1\n",
    "# F3\t2\n",
    "# F4\t3\n",
    "# F5\t5\n",
    "# F6\t8\n",
    "# F7\t13\n",
    "# F8\t21\n",
    "# F9\t34\n",
    "# F10\t55\n",
    "# F11\t89\n",
    "# F12\t144\n",
    "# F13\t233\n",
    "# F14\t377\n",
    "# F15\t610\n",
    "# F16\t987\n",
    "# F17\t1597\n",
    "# F18\t2584\n",
    "# F19\t4181\n",
    "# F20\t6765"
   ]
  },
  {
   "cell_type": "code",
   "execution_count": null,
   "metadata": {
    "collapsed": true
   },
   "outputs": [],
   "source": [
    "# Naive Algo\n",
    "# Memoised\n",
    "# Bottom UP\n",
    "# Shortest Path - BellmanFord style and guessing"
   ]
  },
  {
   "cell_type": "markdown",
   "metadata": {},
   "source": [
    "# Fibonaci Naive Algo: O( 2^(n/2) )"
   ]
  },
  {
   "cell_type": "code",
   "execution_count": 19,
   "metadata": {},
   "outputs": [],
   "source": [
    "naive_count=0\n",
    "def naive_fibo(num):\n",
    "    global naive_count\n",
    "    naive_count+=1\n",
    "    if num<=2:\n",
    "        return 1\n",
    "    else:\n",
    "        return naive_fibo(num-2)+naive_fibo(num-1)"
   ]
  },
  {
   "cell_type": "code",
   "execution_count": 20,
   "metadata": {},
   "outputs": [
    {
     "name": "stdout",
     "output_type": "stream",
     "text": [
      "6765 13529\n"
     ]
    }
   ],
   "source": [
    "naive_count=0\n",
    "print(naive_fibo(20),naive_count)"
   ]
  },
  {
   "cell_type": "markdown",
   "metadata": {},
   "source": [
    "# Memoised Fibo"
   ]
  },
  {
   "cell_type": "code",
   "execution_count": 52,
   "metadata": {},
   "outputs": [],
   "source": [
    "memo_count=0\n",
    "memo_fibo_dict={}\n",
    "def memo_fibo(num):\n",
    "    global memo_count\n",
    "    global memo_fibo_dict\n",
    "    memo_count+=1\n",
    "    if num in memo_fibo_dict:\n",
    "        return memo_fibo_dict[num]\n",
    "    elif num<=2:\n",
    "        return 1\n",
    "    else:\n",
    "        \n",
    "        memo_fibo_dict[num]=memo_fibo(num-2)+memo_fibo(num-1)\n",
    "        return memo_fibo_dict[num]"
   ]
  },
  {
   "cell_type": "code",
   "execution_count": 53,
   "metadata": {},
   "outputs": [
    {
     "name": "stdout",
     "output_type": "stream",
     "text": [
      "23416728348467685 157\n"
     ]
    }
   ],
   "source": [
    "memo_count=0\n",
    "# memo_fibo_dict\n",
    "print(memo_fibo(80),memo_count)"
   ]
  },
  {
   "cell_type": "markdown",
   "metadata": {},
   "source": [
    "# Bottom UP"
   ]
  },
  {
   "cell_type": "code",
   "execution_count": 61,
   "metadata": {},
   "outputs": [],
   "source": [
    "fib_dict = {}\n",
    "def bup_fib(n):\n",
    "    for k in range(1,n+1):\n",
    "        \n",
    "        if k <= 2:\n",
    "            f = 1\n",
    "        else: \n",
    "            f = fib_dict[k-1] + fib_dict[k-2]\n",
    "        fib_dict[k] = f\n",
    "    return fib_dict[n]\n"
   ]
  },
  {
   "cell_type": "code",
   "execution_count": 63,
   "metadata": {},
   "outputs": [
    {
     "data": {
      "text/plain": [
       "6765"
      ]
     },
     "execution_count": 63,
     "metadata": {},
     "output_type": "execute_result"
    }
   ],
   "source": [
    "bup_fib(20)"
   ]
  },
  {
   "cell_type": "code",
   "execution_count": null,
   "metadata": {
    "collapsed": true
   },
   "outputs": [],
   "source": []
  }
 ],
 "metadata": {
  "kernelspec": {
   "display_name": "Python 3",
   "language": "python",
   "name": "python3"
  },
  "language_info": {
   "codemirror_mode": {
    "name": "ipython",
    "version": 3
   },
   "file_extension": ".py",
   "mimetype": "text/x-python",
   "name": "python",
   "nbconvert_exporter": "python",
   "pygments_lexer": "ipython3",
   "version": "3.6.1"
  }
 },
 "nbformat": 4,
 "nbformat_minor": 2
}

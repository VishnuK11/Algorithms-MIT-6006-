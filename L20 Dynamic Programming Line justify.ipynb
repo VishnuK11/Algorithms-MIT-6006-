{
 "cells": [
  {
   "cell_type": "code",
   "execution_count": null,
   "metadata": {
    "collapsed": true
   },
   "outputs": [],
   "source": [
    "# Recursion + Guessing + Memoised\n",
    "# 1. Subproblems\n",
    "# 2. Guesses\n",
    "# 3. Recurrence\n",
    "# 4. Memo or something\n",
    "# 5. Check if we solved teh original problem"
   ]
  },
  {
   "cell_type": "markdown",
   "metadata": {},
   "source": [
    "# Text Justification"
   ]
  },
  {
   "cell_type": "code",
   "execution_count": null,
   "metadata": {
    "collapsed": true
   },
   "outputs": [],
   "source": [
    "# *******************************\n",
    "# *******************************\n",
    "# ****** Needs more work ********\n",
    "# *******************************\n",
    "# *******************************"
   ]
  },
  {
   "cell_type": "code",
   "execution_count": 1,
   "metadata": {
    "collapsed": true
   },
   "outputs": [],
   "source": [
    "# For n words, how to select end lines so that \n",
    "# Page Badness is minmum. \n",
    "# Badness=(Pagewidth-total width)^3 - for pos\n",
    "# Badnesss=Inf for Neg"
   ]
  },
  {
   "cell_type": "code",
   "execution_count": 187,
   "metadata": {
    "collapsed": true
   },
   "outputs": [],
   "source": [
    "with open(\"L20_text.txt\", \"r\") as f:\n",
    "    text=[word for line in f for word in line.split()]"
   ]
  },
  {
   "cell_type": "code",
   "execution_count": 188,
   "metadata": {
    "collapsed": true
   },
   "outputs": [],
   "source": [
    "# texts=\"hello there. How are you?\"\n",
    "# text=[word for line in texts for word in line.split()]"
   ]
  },
  {
   "cell_type": "code",
   "execution_count": 189,
   "metadata": {},
   "outputs": [
    {
     "data": {
      "text/plain": [
       "['Carl',\n",
       " 'Gustav',\n",
       " 'Jung',\n",
       " 'YUUNG,',\n",
       " 'was',\n",
       " 'a',\n",
       " 'Swiss',\n",
       " 'psychiatrist',\n",
       " 'and',\n",
       " 'psychoanalyst',\n",
       " 'who',\n",
       " 'founded',\n",
       " 'analytical',\n",
       " 'psychology.',\n",
       " \"Jung's\",\n",
       " 'work',\n",
       " 'was',\n",
       " 'influential',\n",
       " 'in',\n",
       " 'the',\n",
       " 'fields',\n",
       " 'of',\n",
       " 'psychiatry,',\n",
       " 'anthropology,',\n",
       " 'archaeology,',\n",
       " 'literature,',\n",
       " 'philosophy,',\n",
       " 'and',\n",
       " 'religious',\n",
       " 'studies.Jung',\n",
       " 'worked',\n",
       " 'as',\n",
       " 'a',\n",
       " 'research',\n",
       " 'scientist',\n",
       " 'at',\n",
       " 'the',\n",
       " 'famous',\n",
       " 'Burgholzli',\n",
       " 'hospital,',\n",
       " 'under',\n",
       " 'Eugen',\n",
       " 'Bleuler.']"
      ]
     },
     "execution_count": 189,
     "metadata": {},
     "output_type": "execute_result"
    }
   ],
   "source": [
    "text"
   ]
  },
  {
   "cell_type": "code",
   "execution_count": 190,
   "metadata": {
    "collapsed": true
   },
   "outputs": [],
   "source": [
    "# convert text to array of words"
   ]
  },
  {
   "cell_type": "code",
   "execution_count": 201,
   "metadata": {
    "collapsed": true
   },
   "outputs": [],
   "source": [
    "page_width=30\n",
    "parents={}\n",
    "maxbadness=30**3\n",
    "badness_memo={}\n",
    "badness_phrase={}\n",
    "\n",
    "def getbadness(words,start,stop):\n",
    "    total_width=0\n",
    "    global page_width\n",
    "    \n",
    "    if start==stop:\n",
    "        return page_width**3\n",
    "    for word in words[start:stop]:\n",
    "        total_width+=len(str(word))+1\n",
    "#     print(\"Badness. Total Width is:\",total_width,\"for \",words[start:stop])\n",
    "    return (page_width-total_width)**3\n",
    "\n",
    "def text_justify(a,b,depth):\n",
    "    global page_width\n",
    "    global parents\n",
    "    global badness_memo\n",
    "    global badness_phrase\n",
    "    \n",
    "    words=text[a:b]\n",
    "    badness={0:maxbadness}\n",
    "    i=1\n",
    "    print(\"New recurrance phrase: \",words, \"at depth\",depth)\n",
    "    if len(words)==0:\n",
    "        return badness[0]\n",
    "    else:\n",
    "        while i>=1:\n",
    "            if (a,i+a) in badness_memo:\n",
    "                print(\"return Memo_Line\",i)\n",
    "                return badness_memo[(a,i+a)]\n",
    "            elif (a,i+a) in badness_phrase:\n",
    "                print(\"return Memo_Phrase\",i)\n",
    "                return badness_phrase[(a,i+a)]\n",
    "            else:\n",
    "                badness_temp=getbadness(words,a,a+i)\n",
    "                \n",
    "            print(\"(a+i,b)\",a+i,b)\n",
    "            \n",
    "            if badness_temp<0:\n",
    "                i=i-1\n",
    "                print(\"Breaking\",i)\n",
    "                break\n",
    "            elif a+i>=b:\n",
    "                badness_memo[(a,a+i)]=badness[0]\n",
    "                return badness[0]\n",
    "            else:\n",
    "                badness_phrase[(a,i+a)]=badness_temp\n",
    "                badness[i]=badness_temp+text_justify(a+i,b,depth+1)\n",
    "                print(\"Badness is: \",badness[i],\" at depth \",depth,\"for (%d,%d)\" % (a,a+i))\n",
    "                i=i+1\n",
    "#                 print(\"Looping\",i)\n",
    "\n",
    "        smallest=0\n",
    "        for key in badness:\n",
    "            if badness[key]<badness[smallest]:\n",
    "                smallest=key\n",
    "        print(\"Smallest is: \",a+smallest, \"of value \",badness[smallest], \"at depth \",depth)\n",
    "#         print(\"Print A:\",a,type(a))\n",
    "        badness_memo[(a,smallest+a)]=badness[smallest]\n",
    "        parents[depth]=smallest+a,depth\n",
    "        if depth==1:\n",
    "            print(\"Final is \",words[:smallest])\n",
    "        return badness[smallest]\n",
    "    "
   ]
  },
  {
   "cell_type": "code",
   "execution_count": 202,
   "metadata": {},
   "outputs": [
    {
     "name": "stdout",
     "output_type": "stream",
     "text": [
      "New recurrance phrase:  ['Carl', 'Gustav', 'Jung', 'YUUNG,', 'was'] at depth 1\n",
      "(a+i,b) 1 5\n",
      "New recurrance phrase:  ['Gustav', 'Jung', 'YUUNG,', 'was'] at depth 2\n",
      "(a+i,b) 2 5\n",
      "New recurrance phrase:  ['Jung', 'YUUNG,', 'was'] at depth 3\n",
      "(a+i,b) 3 5\n",
      "New recurrance phrase:  ['YUUNG,', 'was'] at depth 4\n",
      "(a+i,b) 4 5\n",
      "New recurrance phrase:  ['was'] at depth 5\n",
      "(a+i,b) 5 5\n",
      "Badness is:  54000  at depth  4 for (3,4)\n",
      "(a+i,b) 5 5\n",
      "Badness is:  44576  at depth  3 for (2,3)\n",
      "(a+i,b) 4 5\n",
      "New recurrance phrase:  ['was'] at depth 4\n",
      "return Memo_Line 1\n",
      "Badness is:  44576  at depth  3 for (2,4)\n",
      "(a+i,b) 5 5\n",
      "Badness is:  42625  at depth  2 for (1,2)\n",
      "(a+i,b) 3 5\n",
      "New recurrance phrase:  ['YUUNG,', 'was'] at depth 3\n",
      "return Memo_Phrase 1\n",
      "Badness is:  32832  at depth  2 for (1,3)\n",
      "(a+i,b) 4 5\n",
      "New recurrance phrase:  ['was'] at depth 3\n",
      "return Memo_Line 1\n",
      "Badness is:  29744  at depth  2 for (1,4)\n",
      "(a+i,b) 5 5\n",
      "Badness is:  42625  at depth  1 for (0,1)\n",
      "(a+i,b) 2 5\n",
      "New recurrance phrase:  ['Jung', 'YUUNG,', 'was'] at depth 2\n",
      "return Memo_Phrase 1\n",
      "Badness is:  23408  at depth  1 for (0,2)\n",
      "(a+i,b) 3 5\n",
      "New recurrance phrase:  ['YUUNG,', 'was'] at depth 2\n",
      "return Memo_Phrase 1\n",
      "Badness is:  29197  at depth  1 for (0,3)\n",
      "(a+i,b) 4 5\n",
      "New recurrance phrase:  ['was'] at depth 2\n",
      "return Memo_Line 1\n",
      "Badness is:  27216  at depth  1 for (0,4)\n",
      "(a+i,b) 5 5\n"
     ]
    },
    {
     "data": {
      "text/plain": [
       "27000"
      ]
     },
     "execution_count": 202,
     "metadata": {},
     "output_type": "execute_result"
    }
   ],
   "source": [
    "text_justify(0,5,1)"
   ]
  },
  {
   "cell_type": "code",
   "execution_count": 203,
   "metadata": {},
   "outputs": [
    {
     "data": {
      "text/plain": [
       "{(0, 1): 15625,\n",
       " (0, 2): 5832,\n",
       " (0, 3): 2197,\n",
       " (0, 4): 216,\n",
       " (1, 2): 15625,\n",
       " (1, 3): 5832,\n",
       " (1, 4): 2744,\n",
       " (2, 3): 17576,\n",
       " (2, 4): 17576,\n",
       " (3, 4): 27000}"
      ]
     },
     "execution_count": 203,
     "metadata": {},
     "output_type": "execute_result"
    }
   ],
   "source": [
    "badness_phrase"
   ]
  },
  {
   "cell_type": "code",
   "execution_count": 204,
   "metadata": {},
   "outputs": [
    {
     "data": {
      "text/plain": [
       "{}"
      ]
     },
     "execution_count": 204,
     "metadata": {},
     "output_type": "execute_result"
    }
   ],
   "source": [
    "parents"
   ]
  },
  {
   "cell_type": "code",
   "execution_count": 199,
   "metadata": {},
   "outputs": [
    {
     "data": {
      "text/plain": [
       "15625"
      ]
     },
     "execution_count": 199,
     "metadata": {},
     "output_type": "execute_result"
    }
   ],
   "source": [
    "(30-5)**3"
   ]
  },
  {
   "cell_type": "code",
   "execution_count": 200,
   "metadata": {},
   "outputs": [
    {
     "data": {
      "text/plain": [
       "['and', 'psychoanalyst']"
      ]
     },
     "execution_count": 200,
     "metadata": {},
     "output_type": "execute_result"
    }
   ],
   "source": [
    "text[8:10]"
   ]
  },
  {
   "cell_type": "code",
   "execution_count": null,
   "metadata": {
    "collapsed": true
   },
   "outputs": [],
   "source": []
  }
 ],
 "metadata": {
  "kernelspec": {
   "display_name": "Python 3",
   "language": "python",
   "name": "python3"
  },
  "language_info": {
   "codemirror_mode": {
    "name": "ipython",
    "version": 3
   },
   "file_extension": ".py",
   "mimetype": "text/x-python",
   "name": "python",
   "nbconvert_exporter": "python",
   "pygments_lexer": "ipython3",
   "version": "3.6.1"
  }
 },
 "nbformat": 4,
 "nbformat_minor": 2
}

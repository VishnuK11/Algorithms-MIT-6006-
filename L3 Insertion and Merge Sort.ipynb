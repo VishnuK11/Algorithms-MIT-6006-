{
 "cells": [
  {
   "cell_type": "code",
   "execution_count": 1,
   "metadata": {
    "collapsed": true
   },
   "outputs": [],
   "source": [
    "# Insertion Sort:\n",
    "\n",
    "# For key index, K, Swap the sorted array on left until inserted in it properly. n**2 Cost"
   ]
  },
  {
   "cell_type": "code",
   "execution_count": 2,
   "metadata": {
    "collapsed": true
   },
   "outputs": [],
   "source": [
    "from random import randint\n",
    "from statistics import mean\n",
    "count_t=[]"
   ]
  },
  {
   "cell_type": "code",
   "execution_count": 7,
   "metadata": {
    "collapsed": true
   },
   "outputs": [],
   "source": [
    "def insertion_sort(L):\n",
    "    count=0\n",
    "    print(\"Unsorted List:\",L)\n",
    "    for i in range(1,len(L)):\n",
    "        j=i\n",
    "        while j>0:\n",
    "            if L[j]<L[j-1]:\n",
    "                temp=L[j]\n",
    "                L[j]=L[j-1]\n",
    "                L[j-1]=temp\n",
    "                j+=-1\n",
    "                count+=1\n",
    "            else:\n",
    "                break\n",
    "    \n",
    "    print(\"Sorted List\",L)\n",
    "    print(\"Total Swaps\",count)\n",
    "    print()\n",
    "    count_t.append(count)"
   ]
  },
  {
   "cell_type": "code",
   "execution_count": 8,
   "metadata": {},
   "outputs": [
    {
     "name": "stdout",
     "output_type": "stream",
     "text": [
      "Unsorted List: [26, 25, 11, 2, 25, 38, 37, 42, 32, 11, 35, 6, 50, 24, 2, 36, 47, 2, 31, 32]\n",
      "Sorted List [2, 2, 2, 6, 11, 11, 24, 25, 25, 26, 31, 32, 32, 35, 36, 37, 38, 42, 47, 50]\n",
      "Total Swaps 88\n",
      "\n",
      "Unsorted List: [43, 47, 29, 41, 50, 49, 7, 21, 50, 27, 14, 5, 28, 15, 23, 7, 31, 28, 28, 39]\n",
      "Sorted List [5, 7, 7, 14, 15, 21, 23, 27, 28, 28, 28, 29, 31, 39, 41, 43, 47, 49, 50, 50]\n",
      "Total Swaps 111\n",
      "\n",
      "Unsorted List: [39, 30, 14, 7, 5, 49, 21, 50, 17, 8, 32, 27, 33, 39, 49, 1, 30, 26, 47, 41]\n",
      "Sorted List [1, 5, 7, 8, 14, 17, 21, 26, 27, 30, 30, 32, 33, 39, 39, 41, 47, 49, 49, 50]\n",
      "Total Swaps 78\n",
      "\n",
      "Unsorted List: [11, 46, 25, 6, 32, 27, 22, 16, 23, 39, 8, 10, 2, 48, 50, 43, 23, 33, 10, 14]\n",
      "Sorted List [2, 6, 8, 10, 10, 11, 14, 16, 22, 23, 23, 25, 27, 32, 33, 39, 43, 46, 48, 50]\n",
      "Total Swaps 94\n",
      "\n",
      "Unsorted List: [42, 27, 41, 45, 9, 21, 21, 31, 1, 33, 37, 14, 12, 19, 50, 9, 4, 16, 21, 25]\n",
      "Sorted List [1, 4, 9, 9, 12, 14, 16, 19, 21, 21, 21, 25, 27, 31, 33, 37, 41, 42, 45, 50]\n",
      "Total Swaps 114\n",
      "\n",
      "Unsorted List: [28, 39, 39, 7, 42, 40, 23, 20, 32, 17, 20, 27, 24, 12, 48, 38, 23, 45, 42, 2]\n",
      "Sorted List [2, 7, 12, 17, 20, 20, 23, 23, 24, 27, 28, 32, 38, 39, 39, 40, 42, 42, 45, 48]\n",
      "Total Swaps 96\n",
      "\n",
      "Unsorted List: [38, 49, 26, 30, 42, 33, 47, 23, 35, 31, 22, 14, 12, 37, 27, 16, 42, 33, 8, 19]\n",
      "Sorted List [8, 12, 14, 16, 19, 22, 23, 26, 27, 30, 31, 33, 33, 35, 37, 38, 42, 42, 47, 49]\n",
      "Total Swaps 127\n",
      "\n",
      "Unsorted List: [11, 48, 6, 40, 23, 28, 44, 27, 13, 21, 29, 19, 19, 45, 1, 35, 39, 29, 14, 44]\n",
      "Sorted List [1, 6, 11, 13, 14, 19, 19, 21, 23, 27, 28, 29, 29, 35, 39, 40, 44, 44, 45, 48]\n",
      "Total Swaps 88\n",
      "\n",
      "Unsorted List: [9, 26, 18, 50, 10, 8, 39, 37, 15, 25, 48, 15, 1, 36, 12, 6, 22, 40, 35, 25]\n",
      "Sorted List [1, 6, 8, 9, 10, 12, 15, 15, 18, 22, 25, 25, 26, 35, 36, 37, 39, 40, 48, 50]\n",
      "Total Swaps 92\n",
      "\n",
      "Unsorted List: [9, 35, 23, 27, 6, 28, 23, 28, 35, 15, 11, 24, 3, 43, 1, 48, 9, 10, 5, 39]\n",
      "Sorted List [1, 3, 5, 6, 9, 9, 10, 11, 15, 23, 23, 24, 27, 28, 28, 35, 35, 39, 43, 48]\n",
      "Total Swaps 99\n",
      "\n",
      "Unsorted List: [39, 3, 8, 10, 43, 34, 33, 9, 39, 49, 43, 7, 48, 48, 8, 16, 36, 50, 30, 40]\n",
      "Sorted List [3, 7, 8, 8, 9, 10, 16, 30, 33, 34, 36, 39, 39, 40, 43, 43, 48, 48, 49, 50]\n",
      "Total Swaps 71\n",
      "\n",
      "Unsorted List: [22, 43, 35, 15, 35, 29, 9, 24, 24, 10, 18, 8, 20, 47, 2, 2, 41, 43, 2, 2]\n",
      "Sorted List [2, 2, 2, 2, 8, 9, 10, 15, 18, 20, 22, 24, 24, 29, 35, 35, 41, 43, 43, 47]\n",
      "Total Swaps 118\n",
      "\n",
      "Unsorted List: [9, 28, 36, 29, 28, 37, 11, 29, 16, 3, 39, 9, 7, 12, 3, 11, 24, 26, 19, 50]\n",
      "Sorted List [3, 3, 7, 9, 9, 11, 11, 12, 16, 19, 24, 26, 28, 28, 29, 29, 36, 37, 39, 50]\n",
      "Total Swaps 98\n",
      "\n",
      "Unsorted List: [43, 47, 20, 23, 4, 9, 23, 21, 13, 10, 1, 23, 6, 35, 28, 17, 46, 40, 4, 38]\n",
      "Sorted List [1, 4, 4, 6, 9, 10, 13, 17, 20, 21, 23, 23, 23, 28, 35, 38, 40, 43, 46, 47]\n",
      "Total Swaps 91\n",
      "\n",
      "Unsorted List: [27, 50, 25, 16, 3, 21, 8, 21, 12, 46, 36, 21, 33, 44, 45, 33, 13, 6, 19, 17]\n",
      "Sorted List [3, 6, 8, 12, 13, 16, 17, 19, 21, 21, 21, 25, 27, 33, 33, 36, 44, 45, 46, 50]\n",
      "Total Swaps 100\n",
      "\n",
      "Unsorted List: [46, 23, 7, 40, 50, 42, 41, 13, 3, 2, 33, 42, 9, 11, 18, 12, 23, 15, 19, 4]\n",
      "Sorted List [2, 3, 4, 7, 9, 11, 12, 13, 15, 18, 19, 23, 23, 33, 40, 41, 42, 42, 46, 50]\n",
      "Total Swaps 118\n",
      "\n",
      "Unsorted List: [19, 15, 34, 45, 9, 38, 32, 13, 29, 40, 27, 15, 9, 13, 49, 4, 28, 40, 12, 9]\n",
      "Sorted List [4, 9, 9, 9, 12, 13, 13, 15, 15, 19, 27, 28, 29, 32, 34, 38, 40, 40, 45, 49]\n",
      "Total Swaps 110\n",
      "\n",
      "Unsorted List: [26, 30, 15, 27, 10, 11, 35, 21, 17, 12, 39, 38, 19, 5, 12, 6, 28, 7, 20, 7]\n",
      "Sorted List [5, 6, 7, 7, 10, 11, 12, 12, 15, 17, 19, 20, 21, 26, 27, 28, 30, 35, 38, 39]\n",
      "Total Swaps 115\n",
      "\n",
      "Unsorted List: [12, 44, 33, 33, 21, 12, 9, 12, 16, 41, 31, 10, 27, 26, 46, 41, 39, 11, 17, 15]\n",
      "Sorted List [9, 10, 11, 12, 12, 12, 15, 16, 17, 21, 26, 27, 31, 33, 33, 39, 41, 41, 44, 46]\n",
      "Total Swaps 94\n",
      "\n",
      "Unsorted List: [21, 34, 20, 27, 36, 39, 49, 42, 23, 19, 37, 32, 29, 23, 9, 19, 37, 4, 37, 45]\n",
      "Sorted List [4, 9, 19, 19, 20, 21, 23, 23, 27, 29, 32, 34, 36, 37, 37, 37, 39, 42, 45, 49]\n",
      "Total Swaps 95\n",
      "\n"
     ]
    }
   ],
   "source": [
    "for trial in range(20):\n",
    "    L=[randint(1,50) for i in range(20)]\n",
    "    insertion_sort(L)"
   ]
  },
  {
   "cell_type": "code",
   "execution_count": 3,
   "metadata": {
    "collapsed": true
   },
   "outputs": [],
   "source": [
    "# Merge Sort:\n",
    "\n",
    "# Merge two sorted arrays into a third array. nlogn. "
   ]
  },
  {
   "cell_type": "code",
   "execution_count": 15,
   "metadata": {},
   "outputs": [],
   "source": [
    "def merge_sort(L,count):\n",
    "    \n",
    "    half=int(len(L)/2)\n",
    "    L1=L[:half]\n",
    "    L2=L[half:]\n",
    "    if len(L1)>1:\n",
    "        L1,count_1=merge_sort(L1,count)\n",
    "        count=count+count_1\n",
    "    if len(L2)>1:\n",
    "        L2,count_2=merge_sort(L2,count)\n",
    "        count=count+count_2\n",
    "        \n",
    "    \n",
    "    t1=0\n",
    "    t2=0\n",
    "    L3=[]\n",
    "    print(\"Unsorted List:\",L)\n",
    "    while t1<len(L1) and t2<len(L2):\n",
    "        if L1[t1]<=L2[t2]:\n",
    "            L3.append(L1[t1])\n",
    "            t1+=1\n",
    "        else:\n",
    "            L3.append(L2[t2])\n",
    "            t2+=1\n",
    "            \n",
    "        if t1>=len(L1):\n",
    "            while t2<len(L2):\n",
    "                L3.append(L2[t2])\n",
    "                t2+=1\n",
    "        if t2>=len(L2):\n",
    "            while t1<len(L1):\n",
    "                L3.append(L1[t1])\n",
    "                t1+=1\n",
    "        \n",
    "        count=count+1\n",
    "    print(\"Sorted\",L3)\n",
    "    print(count)\n",
    "    print()\n",
    "    return L3,count"
   ]
  },
  {
   "cell_type": "code",
   "execution_count": 16,
   "metadata": {},
   "outputs": [
    {
     "name": "stdout",
     "output_type": "stream",
     "text": [
      "[39, 4, 19, 12, 28, 50, 35, 6]\n",
      "Unsorted List: [39, 4]\n",
      "Sorted [4, 39]\n",
      "1\n",
      "\n",
      "Unsorted List: [19, 12]\n",
      "Sorted [12, 19]\n",
      "2\n",
      "\n",
      "Unsorted List: [39, 4, 19, 12]\n",
      "Sorted [4, 12, 19, 39]\n",
      "6\n",
      "\n",
      "Unsorted List: [28, 50]\n",
      "Sorted [28, 50]\n",
      "7\n",
      "\n",
      "Unsorted List: [35, 6]\n",
      "Sorted [6, 35]\n",
      "14\n",
      "\n",
      "Unsorted List: [28, 50, 35, 6]\n",
      "Sorted [6, 28, 35, 50]\n",
      "30\n",
      "\n",
      "Unsorted List: [39, 4, 19, 12, 28, 50, 35, 6]\n",
      "Sorted [4, 6, 12, 19, 28, 35, 39, 50]\n",
      "43\n",
      "\n"
     ]
    },
    {
     "data": {
      "text/plain": [
       "([4, 6, 12, 19, 28, 35, 39, 50], 43)"
      ]
     },
     "execution_count": 16,
     "metadata": {},
     "output_type": "execute_result"
    }
   ],
   "source": [
    "for trial in range(1):\n",
    "    L=[randint(1,50) for i in range(8)]\n",
    "print(L)\n",
    "merge_sort(L,0)"
   ]
  },
  {
   "cell_type": "code",
   "execution_count": null,
   "metadata": {
    "collapsed": true
   },
   "outputs": [],
   "source": []
  }
 ],
 "metadata": {
  "kernelspec": {
   "display_name": "Python 3",
   "language": "python",
   "name": "python3"
  },
  "language_info": {
   "codemirror_mode": {
    "name": "ipython",
    "version": 3
   },
   "file_extension": ".py",
   "mimetype": "text/x-python",
   "name": "python",
   "nbconvert_exporter": "python",
   "pygments_lexer": "ipython3",
   "version": "3.6.1"
  }
 },
 "nbformat": 4,
 "nbformat_minor": 2
}

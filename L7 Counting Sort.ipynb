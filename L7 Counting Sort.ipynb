{
 "cells": [
  {
   "cell_type": "code",
   "execution_count": 7,
   "metadata": {
    "collapsed": true
   },
   "outputs": [],
   "source": [
    "\n",
    "# Counting sort. For a list containing 0-k-1 integers, sort a unsorted array of n unigque elements, all containing intergers [0,k-1]\n",
    "\n",
    "#Algorithm:\n",
    "# Create a dictionary of with keys [0,k-1] using for loop, with counter set to zero\n",
    "# Take an input array,traverse it and increase counter based on keys those integers.\n",
    "# print array from keys"
   ]
  },
  {
   "cell_type": "code",
   "execution_count": 9,
   "metadata": {
    "collapsed": true
   },
   "outputs": [],
   "source": [
    "from random import randint"
   ]
  },
  {
   "cell_type": "code",
   "execution_count": 30,
   "metadata": {},
   "outputs": [],
   "source": [
    "ref_keys={}\n",
    "for key in range(20):\n",
    "    ref_keys[key]=0"
   ]
  },
  {
   "cell_type": "code",
   "execution_count": 31,
   "metadata": {},
   "outputs": [
    {
     "name": "stdout",
     "output_type": "stream",
     "text": [
      "Unsorted [2, 9, 14, 17, 10, 16, 11, 18, 1, 19]\n",
      "Sorted [ 1,2,9,10,11,14,16,17,18,19,]\n"
     ]
    }
   ],
   "source": [
    "unsorted=[randint(0,19) for i in range(10)]\n",
    "for num in unsorted:\n",
    "    ref_keys[num]=ref_keys[num]+1\n",
    "    \n",
    "    \n",
    "print(\"Unsorted\",unsorted)\n",
    "print(\"Sorted [\",end=\" \")\n",
    "\n",
    "for key in ref_keys:\n",
    "    if ref_keys[key]!=0:\n",
    "        for repeat in range(ref_keys[key]):\n",
    "            print(key,end=\", \")\n",
    "print(\"]\")\n",
    "# print(\"Sorted\",ref_keys)"
   ]
  },
  {
   "cell_type": "code",
   "execution_count": null,
   "metadata": {
    "collapsed": true
   },
   "outputs": [],
   "source": []
  }
 ],
 "metadata": {
  "kernelspec": {
   "display_name": "Python 3",
   "language": "python",
   "name": "python3"
  },
  "language_info": {
   "codemirror_mode": {
    "name": "ipython",
    "version": 3
   },
   "file_extension": ".py",
   "mimetype": "text/x-python",
   "name": "python",
   "nbconvert_exporter": "python",
   "pygments_lexer": "ipython3",
   "version": "3.6.1"
  }
 },
 "nbformat": 4,
 "nbformat_minor": 2
}

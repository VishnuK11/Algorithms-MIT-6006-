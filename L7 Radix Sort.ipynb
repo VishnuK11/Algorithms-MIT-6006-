{
 "cells": [
  {
   "cell_type": "code",
   "execution_count": 7,
   "metadata": {
    "collapsed": true
   },
   "outputs": [],
   "source": [
    "# Radix sort. For a list containing 0-k-1 integers, sort a unsorted array of n unigque elements, all containing intergers [0,k-1]\n",
    "# USe the lsd -least significant digit to sort all in the array.\n",
    "\n",
    "#Algorithm:\n",
    "# Find the digit. Use counting sort to sort it by digit. \n",
    "# Find the next digit. repeat. Until last."
   ]
  },
  {
   "cell_type": "code",
   "execution_count": 11,
   "metadata": {
    "collapsed": true
   },
   "outputs": [],
   "source": [
    "from random import randint"
   ]
  },
  {
   "cell_type": "code",
   "execution_count": 71,
   "metadata": {},
   "outputs": [],
   "source": [
    "# Initiate your keys for counting and the unsorted array\n",
    "ref_keys={}\n",
    "for key in range(0,10):\n",
    "    ref_keys[key]=[]\n",
    "    \n",
    "unsorted=[randint(1,99) for i in range(15)]"
   ]
  },
  {
   "cell_type": "code",
   "execution_count": 72,
   "metadata": {},
   "outputs": [],
   "source": [
    "def lsd(num,digit):\n",
    "    div=10\n",
    "    quot=num\n",
    "    for i in range(digit):\n",
    "        rem=quot%div # This gives the digit\n",
    "        quot=int(quot/div) # This gives the quotient\n",
    "    return rem  "
   ]
  },
  {
   "cell_type": "code",
   "execution_count": 76,
   "metadata": {
    "collapsed": true
   },
   "outputs": [],
   "source": [
    "#For the digit in the counter, add the reference index from unsorted\n",
    "def lsbandindex(old_sorted,digit):\n",
    "    for index in range(len(unsorted)):\n",
    "        num=old_sorted[index]\n",
    "        least_digit=lsd(num,digit) \n",
    "        ref_keys[least_digit].append(index)\n",
    "#         print(\"Number,\",num,\" with digit,\",least_digit,\" at index \",index)"
   ]
  },
  {
   "cell_type": "code",
   "execution_count": 77,
   "metadata": {
    "scrolled": true
   },
   "outputs": [],
   "source": [
    "# Add to new list after sorting by it:\n",
    "def sortandnew(old_sorted):\n",
    "    new_sorted=[]\n",
    "    for key in ref_keys:\n",
    "         if len(ref_keys[key])!=0:\n",
    "            for each in range(len(ref_keys[key])):\n",
    "                 new_sorted.append(old_sorted[ref_keys[key][each]])\n",
    "    return new_sorted"
   ]
  },
  {
   "cell_type": "code",
   "execution_count": 78,
   "metadata": {},
   "outputs": [],
   "source": [
    "# Repeat the abovetwo steps for each digit\n",
    "old_sorted=unsorted\n",
    "for i in range(1,3):\n",
    "    for key in range(0,10):\n",
    "        ref_keys[key]=[]\n",
    "    lsbandindex(old_sorted,i)\n",
    "    old_sorted=sortandnew(old_sorted)\n",
    "    "
   ]
  },
  {
   "cell_type": "code",
   "execution_count": 79,
   "metadata": {},
   "outputs": [
    {
     "name": "stdout",
     "output_type": "stream",
     "text": [
      "Unsorted [13, 78, 69, 48, 93, 92, 68, 69, 53, 66, 74, 11, 31, 29, 70]\n",
      "Sorted [ [11, 13, 29, 31, 48, 53, 66, 68, 69, 69, 70, 74, 78, 92, 93] ]\n"
     ]
    }
   ],
   "source": [
    "# Print results:\n",
    "    \n",
    "print(\"Unsorted\",unsorted)\n",
    "print(\"Sorted \",old_sorted)"
   ]
  }
 ],
 "metadata": {
  "kernelspec": {
   "display_name": "Python 3",
   "language": "python",
   "name": "python3"
  },
  "language_info": {
   "codemirror_mode": {
    "name": "ipython",
    "version": 3
   },
   "file_extension": ".py",
   "mimetype": "text/x-python",
   "name": "python",
   "nbconvert_exporter": "python",
   "pygments_lexer": "ipython3",
   "version": "3.6.1"
  }
 },
 "nbformat": 4,
 "nbformat_minor": 2
}

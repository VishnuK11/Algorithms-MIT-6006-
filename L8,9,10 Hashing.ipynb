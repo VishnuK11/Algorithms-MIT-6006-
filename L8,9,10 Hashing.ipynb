{
 "cells": [
  {
   "cell_type": "markdown",
   "metadata": {},
   "source": [
    "# Hashing Find Substring Lecture 8\n"
   ]
  },
  {
   "cell_type": "code",
   "execution_count": null,
   "metadata": {
    "collapsed": true
   },
   "outputs": [],
   "source": [
    "def compute_hash(self,string,style):\n",
    "    # Divide Hash\n",
    "    # Multiplicative Hash\n",
    "    # Univesal Hash"
   ]
  },
  {
   "cell_type": "markdown",
   "metadata": {},
   "source": [
    "# Hashing Find Substring Lecture 9\n"
   ]
  },
  {
   "cell_type": "code",
   "execution_count": 9,
   "metadata": {
    "collapsed": true
   },
   "outputs": [],
   "source": [
    "from random import randint\n",
    "from math import log,pow\n",
    "from statistics import mean\n",
    "import string\n",
    "import matplotlib.pyplot as plt"
   ]
  },
  {
   "cell_type": "code",
   "execution_count": 10,
   "metadata": {
    "collapsed": true
   },
   "outputs": [],
   "source": [
    "class hash_funct:\n",
    "    def __init__(self,num):\n",
    "        self.base=256\n",
    "        self.new_prime=self.gen_prime(randint(num+1,10*num))\n",
    "        self.hash_value=0\n",
    "        self.totalwork=0\n",
    "#         print(\"Prime:\",self.new_prime)\n",
    "        \n",
    "    def compute_hash(self,string):\n",
    "        counter=0\n",
    "        self.hash_value=0\n",
    "        for i in range(1,len(string)+1):\n",
    "            self.hash_value+=ord(string[-i])*pow(self.base,counter)\n",
    "            counter+=1\n",
    "        self.hash_value=self.hash_value % self.new_prime      \n",
    "        self.totalwork+=counter\n",
    "        self.printall()\n",
    "        return self.hash_value\n",
    "    \n",
    "    def gen_prime(self,start):\n",
    "        mult = int(start/2)\n",
    "        for num in range(2*mult+1,start*10,2):\n",
    "            divisible=False\n",
    "            for div in range(2,int(num/2)):\n",
    "                if num % div == 0: \n",
    "                    divisible=True\n",
    "                    break\n",
    "                if num % div != 0:\n",
    "                    continue\n",
    "            if divisible==False:\n",
    "                \n",
    "                return num\n",
    "            \n",
    "    def append(self,char,past_hash):\n",
    "#       Theory: r.append(c): (u · a + ord(c)) mod p = [(u mod p) · a + ord(c)] mod p\n",
    "        self.hash_value=past_hash\n",
    "        self.hash_value=(self.hash_value*self.base+ord(char))% self.new_prime \n",
    "        self.totalwork+=1\n",
    "        return self.hash_value\n",
    "\n",
    "    def remove(self,char,past_hash,string):\n",
    "#         Theory: r.skip(c): [u − ord(c) · (a^ |u|−1 mod p)] mod p\n",
    "#                  = [(u mod p) − ord(c) · (a^ |x−1| mod p)] mod p\n",
    "        self.hash_value=past_hash\n",
    "        self.hash_value=self.hash_value-ord(char)*(int(pow(self.base,len(string)-1))%self.new_prime)\n",
    "        self.hash_value=self.hash_value % self.new_prime\n",
    "        self.totalwork+=1\n",
    "        return self.hash_value\n",
    "        \n",
    "    def find_substring(self,ss,fs):\n",
    "        self.ss=ss\n",
    "        self.fs=fs\n",
    "        self.ss[1]=h_f.compute_hash(self.ss[0]) # Just test hash value\n",
    "        self.fs[1]=h_f.compute_hash(self.fs[0]) #  Just test hash value\n",
    "        \n",
    "        tfs=[self.fs[0][0:len(self.ss[0])],0] # Traverse Full string\n",
    "        tfs[1]=h_f.compute_hash(tfs[0]) # rolling Hash for traverse string\n",
    "        \n",
    "        for i in range(len(ss[0])-1,len(fs[0])-len(ss[0])): #Number of times to update the search string\n",
    "            if tfs[1]==ss[1]:\n",
    "#                 print(\"Match hash value found\") #check for string match\n",
    "                if tfs[0]==ss[0]:\n",
    "#                     print(\"Matching String value\",tfs[0],ss[0]) #check for string match\n",
    "                    break\n",
    "            elif (i+1)<=(len(fs[0])-len(ss[0])):\n",
    "                tfs[0]+=fs[0][i+1]\n",
    "                tfs[1]=h_f.append(tfs[0][-1],tfs[1]) # Next character and old hash value\n",
    "                tfs[1]=h_f.remove(tfs[0][0],tfs[1],tfs[0]) # Remove character and old hash value\n",
    "                tfs[0]=tfs[0][1:] # Remove first character\n",
    "#                 print(tfs) # Remove character and old hash value\n",
    "                self.totalwork+=4\n",
    "            \n",
    "    def printall(self):\n",
    "#         print(\"HashValue:\",self.hash_value)\n",
    "        return"
   ]
  },
  {
   "cell_type": "code",
   "execution_count": 11,
   "metadata": {},
   "outputs": [
    {
     "name": "stdout",
     "output_type": "stream",
     "text": [
      "42\n"
     ]
    }
   ],
   "source": [
    "fs=['podahellpaya',0] # Full String\n",
    "ss=['hel',0] # Search String\n",
    "h_f=hash_funct(len(fs[0]))\n",
    "h_f.find_substring(ss,fs)\n",
    "print(h_f.totalwork)"
   ]
  },
  {
   "cell_type": "markdown",
   "metadata": {},
   "source": [
    "# Total Work computation in relation to N\n"
   ]
  },
  {
   "cell_type": "code",
   "execution_count": 12,
   "metadata": {
    "collapsed": true
   },
   "outputs": [],
   "source": [
    "# Create a random string of characters\n",
    "def randomword():\n",
    "    length=randint(3,70)\n",
    "    letters = string.ascii_lowercase\n",
    "    return ''.join(random.choice(letters) for i in range(length))\n",
    "\n",
    "# Select a random substring from the string\n",
    "def random_substring(string):\n",
    "    length=len(string)\n",
    "    sublength_1=randint(0,length-2)\n",
    "    sublength_2=randint(sublength_1+1,length)    \n",
    "    return string[sublength_1:sublength_2]"
   ]
  },
  {
   "cell_type": "code",
   "execution_count": 28,
   "metadata": {
    "collapsed": true
   },
   "outputs": [],
   "source": [
    "# Initialize a data array to track the 3 variables - string length, substring length, workdone.\n",
    "data_stat=[]\n",
    "for i in range(100):\n",
    "    # Initialize Full String. Search random substring.\n",
    "    fs=[randomword(),0]  \n",
    "    ss=[random_substring(fs[0]),0]\n",
    "    \n",
    "    h_f=hash_funct(len(fs[0]))\n",
    "    h_f.find_substring(ss,fs)\n",
    "#     print(ss,fs)\n",
    "#     print(h_f.totalwork)\n",
    "    \n",
    "    # Compute total work\n",
    "    data_stat.append([len(ss[0]),len(fs[0]),h_f.totalwork])"
   ]
  },
  {
   "cell_type": "code",
   "execution_count": 29,
   "metadata": {
    "collapsed": true
   },
   "outputs": [],
   "source": [
    "# Compute the ratio of [work_done/(string_len+substring len)]\n",
    "for i in range(100):\n",
    "    data_stat[i].append(data_stat[i][2]/(data_stat[i][1]+data_stat[i][0]))"
   ]
  },
  {
   "cell_type": "code",
   "execution_count": 30,
   "metadata": {},
   "outputs": [
    {
     "name": "stdout",
     "output_type": "stream",
     "text": [
      "2.8039424143232936\n"
     ]
    }
   ],
   "source": [
    "k= [x[3] for x in data_stat[:]]\n",
    "print(mean(k))"
   ]
  },
  {
   "cell_type": "code",
   "execution_count": 32,
   "metadata": {},
   "outputs": [
    {
     "data": {
      "image/png": "[encoded data removed]",
      "text/plain": [
       "<matplotlib.figure.Figure at 0x1e561303ac8>"
      ]
     },
     "metadata": {},
     "output_type": "display_data"
    }
   ],
   "source": [
    "y=[j[2] for j in data_stat[:]]\n",
    "x=[j[1]+j[0] for j in data_stat[:]]\n",
    "fig, ax = plt.subplots()  # Create a figure containing a single axes.\n",
    "ax.set_xlabel('Len of string + len of substring')\n",
    "ax.set_ylabel('totalwork')\n",
    "ax.plot(x,y,'.')\n",
    "plt.show()"
   ]
  },
  {
   "cell_type": "code",
   "execution_count": null,
   "metadata": {
    "collapsed": true
   },
   "outputs": [],
   "source": []
  }
 ],
 "metadata": {
  "kernelspec": {
   "display_name": "Python 3",
   "language": "python",
   "name": "python3"
  },
  "language_info": {
   "codemirror_mode": {
    "name": "ipython",
    "version": 3
   },
   "file_extension": ".py",
   "mimetype": "text/x-python",
   "name": "python",
   "nbconvert_exporter": "python",
   "pygments_lexer": "ipython3",
   "version": "3.6.1"
  }
 },
 "nbformat": 4,
 "nbformat_minor": 2
}
